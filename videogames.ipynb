{
 "cells": [
  {
   "cell_type": "code",
   "execution_count": 1,
   "metadata": {},
   "outputs": [],
   "source": [
    "#Dependencies\n",
    "import urllib.request\n",
    "import requests\n",
    "import pandas as pd\n",
    "import numpy as np\n",
    "# Import BS library so we can parse HTML and XML document\n",
    "from bs4 import BeautifulSoup as bs"
   ]
  },
  {
   "cell_type": "code",
   "execution_count": null,
   "metadata": {},
   "outputs": [],
   "source": [
    "# vz_df_2018 = pd.read_csv('C:/DataVisual/TheMeanSquares/vz_games_2018.csv')"
   ]
  },
  {
   "cell_type": "code",
   "execution_count": null,
   "metadata": {},
   "outputs": [],
   "source": [
    "# vz_df_2018.head()"
   ]
  },
  {
   "cell_type": "code",
   "execution_count": null,
   "metadata": {},
   "outputs": [],
   "source": [
    "# vz_df.dtypes\n",
    "# vz_df_2018 = vz_df[vz_df['Year'] == 2018]\n",
    "vz_df_2018.count()"
   ]
  },
  {
   "cell_type": "code",
   "execution_count": null,
   "metadata": {},
   "outputs": [],
   "source": [
    "#vz_df_2018.columns.values[0] = \"index\"\n",
    "#vz_df_2018.rename(columns={'Unnamed: 0':'index'}, inplace=True)"
   ]
  },
  {
   "cell_type": "code",
   "execution_count": null,
   "metadata": {},
   "outputs": [],
   "source": [
    "vz_df_2018.columns.tolist()"
   ]
  },
  {
   "cell_type": "code",
   "execution_count": 2,
   "metadata": {},
   "outputs": [],
   "source": [
    "# Dependencies and setup\n",
    "import matplotlib.pyplot as plt\n",
    "import psycopg2\n",
    "import datetime\n",
    "from config import password\n",
    "\n",
    "# setup connection to data_happy_db database\n",
    "import sqlalchemy\n",
    "from sqlalchemy.ext.automap import automap_base\n",
    "from sqlalchemy.orm import Session\n",
    "from sqlalchemy import create_engine, func"
   ]
  },
  {
   "cell_type": "code",
   "execution_count": 3,
   "metadata": {},
   "outputs": [],
   "source": [
    "engine = create_engine('postgresql+psycopg2://postgres:'+ password + '@localhost:5432/videogames_db')\n",
    "connection = engine.connect()"
   ]
  },
  {
   "cell_type": "code",
   "execution_count": 4,
   "metadata": {},
   "outputs": [
    {
     "data": {
      "text/plain": [
       "['games']"
      ]
     },
     "execution_count": 4,
     "metadata": {},
     "output_type": "execute_result"
    }
   ],
   "source": [
    "# List table names of database\n",
    "engine.table_names()"
   ]
  },
  {
   "cell_type": "code",
   "execution_count": null,
   "metadata": {},
   "outputs": [],
   "source": [
    "# read dataframe into videogames_db\n",
    "# vz_df_2018.to_sql(name='games', con=engine, if_exists='replace', index=False)"
   ]
  },
  {
   "cell_type": "code",
   "execution_count": 5,
   "metadata": {},
   "outputs": [],
   "source": [
    "# Reflect existing databse into a new model\n",
    "Base = automap_base()\n",
    "#Relect the tables\n",
    "Base.prepare(engine, reflect=True)"
   ]
  },
  {
   "cell_type": "code",
   "execution_count": null,
   "metadata": {},
   "outputs": [],
   "source": [
    "# vz_df_html = vz_df_2018.to_html"
   ]
  },
  {
   "cell_type": "code",
   "execution_count": null,
   "metadata": {},
   "outputs": [],
   "source": [
    "# vz_df_html"
   ]
  },
  {
   "cell_type": "code",
   "execution_count": null,
   "metadata": {},
   "outputs": [],
   "source": [
    "#engine= create_engine(\"sqlite:///data2.sqlite\")"
   ]
  },
  {
   "cell_type": "code",
   "execution_count": 6,
   "metadata": {},
   "outputs": [
    {
     "data": {
      "text/plain": [
       "['games']"
      ]
     },
     "execution_count": 6,
     "metadata": {},
     "output_type": "execute_result"
    }
   ],
   "source": [
    "from sqlalchemy import inspect\n",
    "inspector = inspect (engine)\n",
    "inspector.get_table_names()"
   ]
  },
  {
   "cell_type": "code",
   "execution_count": 7,
   "metadata": {},
   "outputs": [],
   "source": [
    "# engine.execute('SELECT * from games LIMIT 10').fetchall()"
   ]
  },
  {
   "cell_type": "code",
   "execution_count": 8,
   "metadata": {},
   "outputs": [],
   "source": [
    "Games = Base.classes.games"
   ]
  },
  {
   "cell_type": "code",
   "execution_count": 38,
   "metadata": {},
   "outputs": [],
   "source": [
    "# Create a database session object\n",
    "session = Session(engine)"
   ]
  },
  {
   "cell_type": "code",
   "execution_count": 20,
   "metadata": {},
   "outputs": [
    {
     "data": {
      "text/plain": [
       "[('Red Dead Redemption 2', 19.71),\n",
       " ('Call of Duty: Black Ops IIII', 14.3),\n",
       " ('FIFA 19', 12.22),\n",
       " ('God of War (2018)', 6.15),\n",
       " ('Far Cry 5', 5.8),\n",
       " ('Monster Hunter: World', 5.6),\n",
       " ('NBA 2K19', 4.67),\n",
       " (\"Assassin's Creed Odyssey\", 4.63),\n",
       " (\"Pokemon: Let's Go, Pikachu!\", 4.57),\n",
       " ('Battlefield V', 3.87),\n",
       " ('Madden NFL 19', 3.72),\n",
       " ('Spyro Reignited Trilogy', 2.82),\n",
       " (\"Pokemon: Let's Go, Eevee!\", 2.73),\n",
       " ('Shadow of the Tomb Raider', 2.52),\n",
       " ('Fallout 76', 2.46),\n",
       " ('Dragon Ball FighterZ', 2.42),\n",
       " ('Dragon Quest XI: Echoes of an Elusive Age', 2.04),\n",
       " ('Minecraft', 1.89),\n",
       " ('Forza Horizon 4', 1.84),\n",
       " ('Crash Bandicoot N. Sane Trilogy', 1.76)]"
      ]
     },
     "execution_count": 20,
     "metadata": {},
     "output_type": "execute_result"
    }
   ],
   "source": [
    "# list of all the names and global_sales in games table\n",
    "session.query(Games.Name, func.sum(Games.Global_Sales)).\\\n",
    "    group_by(Games.Name).order_by(func.sum(Games.Global_Sales).desc()).\\\n",
    "    limit(20).all()"
   ]
  },
  {
   "cell_type": "code",
   "execution_count": 23,
   "metadata": {},
   "outputs": [
    {
     "data": {
      "text/plain": [
       "[('Action-Adventure', 35.18),\n",
       " ('Action', 28.99),\n",
       " ('Sports', 27.16),\n",
       " ('Shooter', 21.41),\n",
       " ('Role-Playing', 20.6),\n",
       " ('Platform', 7.66),\n",
       " ('Fighting', 7.58),\n",
       " ('Racing', 6.73),\n",
       " ('Simulation', 4.81),\n",
       " ('Adventure', 2.79),\n",
       " ('Music', 2.27),\n",
       " ('Sandbox', 1.89),\n",
       " ('Misc', 1.82),\n",
       " ('Puzzle', 1.19),\n",
       " ('Strategy', 1.13),\n",
       " ('Party', 0.51),\n",
       " ('Visual Novel', 0.39),\n",
       " ('MMO', 0.26),\n",
       " ('Board Game', 0.01)]"
      ]
     },
     "execution_count": 23,
     "metadata": {},
     "output_type": "execute_result"
    }
   ],
   "source": [
    "session.query(Games.Genre, func.sum(Games.Global_Sales)).\\\n",
    "    group_by(Games.Genre).order_by(func.sum(Games.Global_Sales).desc()).all()"
   ]
  },
  {
   "cell_type": "code",
   "execution_count": 33,
   "metadata": {},
   "outputs": [
    {
     "data": {
      "text/plain": [
       "[('Red Dead Redemption 2', 19.71, 9.02, 7.68, 0.21, 2.8),\n",
       " ('Call of Duty: Black Ops IIII', 14.3, 7.37, 4.47, 0.5, 1.96),\n",
       " ('FIFA 19', 12.22, 1.58, 8.93, 0.16, 1.56),\n",
       " ('God of War (2018)', 6.15, 2.83, 2.17, 0.13, 1.02),\n",
       " ('Far Cry 5', 5.8, 2.58, 2.27, 0.15, 0.79),\n",
       " ('Monster Hunter: World', 5.6, 1.7, 1.23, 2.17, 0.51),\n",
       " ('NBA 2K19', 4.67, 3.4, 0.54, 0.04, 0.68),\n",
       " (\"Assassin's Creed Odyssey\", 4.63, 2.09, 1.81, 0.09, 0.64),\n",
       " (\"Pokemon: Let's Go, Pikachu!\", 4.57, 2.16, 1.24, 0.82, 0.34),\n",
       " ('Battlefield V', 3.87, 1.85, 1.37, 0.16, 0.5),\n",
       " ('Madden NFL 19', 3.72, 2.96, 0.2, None, 0.57),\n",
       " ('Spyro Reignited Trilogy', 2.82, 1.11, 1.31, None, 0.41),\n",
       " (\"Pokemon: Let's Go, Eevee!\", 2.73, 1.22, 0.8, 0.51, 0.2),\n",
       " ('Shadow of the Tomb Raider', 2.52, 1.05, 1.07, 0.06, 0.34),\n",
       " ('Fallout 76', 2.46, 1.23, 0.82, 0.1, 0.31),\n",
       " ('Dragon Ball FighterZ', 2.42, 1.2, 0.73, 0.19, 0.31),\n",
       " ('Dragon Quest XI: Echoes of an Elusive Age', 2.04, 0.29, 0.22, 1.43, 0.1),\n",
       " ('Minecraft', 1.89, 0.69, 0.56, 0.52, 0.12),\n",
       " ('Forza Horizon 4', 1.84, 0.74, 0.95, 0.01, 0.15),\n",
       " ('Crash Bandicoot N. Sane Trilogy', 1.76, 0.67, 0.94, 0.02, 0.14)]"
      ]
     },
     "execution_count": 33,
     "metadata": {},
     "output_type": "execute_result"
    }
   ],
   "source": [
    "session.query(Games.Name,func.sum(Games.Global_Sales),func.sum(Games.NA_Sales),func.sum(Games.PAL_Sales),\\\n",
    "              func.sum(Games.JP_Sales), func.sum(Games.Other_Sales)).\\\n",
    "              group_by(Games.Name).order_by(func.sum(Games.Global_Sales).desc()).limit(20).all()"
   ]
  },
  {
   "cell_type": "code",
   "execution_count": 40,
   "metadata": {},
   "outputs": [
    {
     "data": {
      "text/plain": [
       "[('Rockstar Games', 19.71),\n",
       " ('Treyarch', 14.3),\n",
       " ('EA Sports', 12.22),\n",
       " ('Capcom', 7.79),\n",
       " ('Game Freak', 7.42),\n",
       " ('SIE Santa Monica Studio', 6.15),\n",
       " ('Visual Concepts', 6.13),\n",
       " ('Ubisoft Quebec', 4.63),\n",
       " ('Ubisoft', 4.32),\n",
       " ('EA Tiburon', 4.06),\n",
       " ('Toys for Bob', 3.93),\n",
       " ('EA DICE', 3.87),\n",
       " ('Square Enix', 3.36),\n",
       " (\"Traveller's Tales\", 3.23),\n",
       " ('Arc System Works', 2.71),\n",
       " ('Eidos Montreal', 2.52),\n",
       " ('Bethesda Game Studios', 2.46),\n",
       " ('Sega', 2.25),\n",
       " ('4J Studios', 1.89),\n",
       " ('Playground Games', 1.84)]"
      ]
     },
     "execution_count": 40,
     "metadata": {},
     "output_type": "execute_result"
    }
   ],
   "source": [
    "session.query(Games.Developer, func.sum(Games.Global_Sales)).\\\n",
    "             group_by(Games.Developer).order_by(func.sum(Games.Global_Sales).desc()).\\\n",
    "              limit(20).all()"
   ]
  },
  {
   "cell_type": "code",
   "execution_count": 43,
   "metadata": {},
   "outputs": [
    {
     "data": {
      "text/plain": [
       "[('Rockstar Games', 19.71, 9.02, 7.68, 0.21, 2.8),\n",
       " ('Treyarch', 14.3, 7.37, 4.47, 0.5, 1.96),\n",
       " ('EA Sports', 12.22, 1.58, 8.93, 0.16, 1.56),\n",
       " ('Capcom', 7.79, 2.83, 1.58, 2.68, 0.72),\n",
       " ('Game Freak', 7.42, 3.38, 2.15, 1.33, 0.55),\n",
       " ('SIE Santa Monica Studio', 6.15, 2.83, 2.17, 0.13, 1.02),\n",
       " ('Visual Concepts', 6.13, 4.06, 1.14, 0.04, 0.88),\n",
       " ('Ubisoft Quebec', 4.63, 2.09, 1.81, 0.09, 0.64),\n",
       " ('Ubisoft', 4.32, 1.53, 1.97, 0.16, 0.65),\n",
       " ('EA Tiburon', 4.06, 3.24, 0.2, None, 0.63),\n",
       " ('Toys for Bob', 3.93, 1.55, 1.88, 0.02, 0.5),\n",
       " ('EA DICE', 3.87, 1.85, 1.37, 0.16, 0.5),\n",
       " ('Square Enix', 3.36, 0.89, 0.43, 1.83, 0.22),\n",
       " (\"Traveller's Tales\", 3.23, 1.71, 1.16, 0.01, 0.38),\n",
       " ('Arc System Works', 2.71, 1.33, 0.74, 0.31, 0.33),\n",
       " ('Eidos Montreal', 2.52, 1.05, 1.07, 0.06, 0.34),\n",
       " ('Bethesda Game Studios', 2.46, 1.23, 0.82, 0.1, 0.31),\n",
       " ('Sega', 2.25, 0.8, 0.59, 0.59, 0.24),\n",
       " ('4J Studios', 1.89, 0.69, 0.56, 0.52, 0.12),\n",
       " ('Playground Games', 1.84, 0.74, 0.95, 0.01, 0.15)]"
      ]
     },
     "execution_count": 43,
     "metadata": {},
     "output_type": "execute_result"
    }
   ],
   "source": [
    "session.query(Games.Developer, func.sum(Games.Global_Sales), func.sum(Games.NA_Sales),func.sum(Games.PAL_Sales),\\\n",
    "              func.sum(Games.JP_Sales), func.sum(Games.Other_Sales)).\\\n",
    "             group_by(Games.Developer).order_by(func.sum(Games.Global_Sales).desc()).\\\n",
    "              limit(20).all()"
   ]
  },
  {
   "cell_type": "code",
   "execution_count": 51,
   "metadata": {},
   "outputs": [],
   "source": [
    "stmt = session.query(Games).statement"
   ]
  },
  {
   "cell_type": "code",
   "execution_count": 52,
   "metadata": {},
   "outputs": [],
   "source": [
    "df_test=pd.read_sql_query(stmt, session.bind)"
   ]
  },
  {
   "cell_type": "code",
   "execution_count": 53,
   "metadata": {},
   "outputs": [
    {
     "name": "stdout",
     "output_type": "stream",
     "text": [
      "     index                                            Name             Genre  \\\n",
      "0        0                           Red Dead Redemption 2  Action-Adventure   \n",
      "1        1                    Call of Duty: Black Ops IIII           Shooter   \n",
      "2        2                                         FIFA 19            Sports   \n",
      "3        3                               God of War (2018)            Action   \n",
      "4        4                           Red Dead Redemption 2  Action-Adventure   \n",
      "5        5                    Call of Duty: Black Ops IIII           Shooter   \n",
      "6        6                           Monster Hunter: World            Action   \n",
      "7        7                     Pokemon: Let's Go, Pikachu!      Role-Playing   \n",
      "8        8                                       Far Cry 5            Action   \n",
      "9        9                        Assassin's Creed Odyssey  Action-Adventure   \n",
      "10      10                       Pokemon: Let's Go, Eevee!      Role-Playing   \n",
      "11      11                                        NBA 2K19            Sports   \n",
      "12      12                                   Battlefield V           Shooter   \n",
      "13      13                                         FIFA 19            Sports   \n",
      "14      14                                   Madden NFL 19            Sports   \n",
      "15      15                         Spyro Reignited Trilogy          Platform   \n",
      "16      16       Dragon Quest XI: Echoes of an Elusive Age      Role-Playing   \n",
      "17      17                                       Minecraft           Sandbox   \n",
      "18      18                                 Forza Horizon 4            Racing   \n",
      "19      19                                       Far Cry 5            Action   \n",
      "20      20                                        NBA 2K19            Sports   \n",
      "21      21                       Shadow of the Tomb Raider  Action-Adventure   \n",
      "22      22                                   Battlefield V           Shooter   \n",
      "23      23                                   Madden NFL 19            Sports   \n",
      "24      24                            Dragon Ball FighterZ          Fighting   \n",
      "25      25                        Assassin's Creed Odyssey  Action-Adventure   \n",
      "26      26                                      Fallout 76      Role-Playing   \n",
      "27      27                          Shadow of the Colossus  Action-Adventure   \n",
      "28      28                 Crash Bandicoot N. Sane Trilogy          Platform   \n",
      "29      29                                 MLB The Show 18            Sports   \n",
      "..     ...                                             ...               ...   \n",
      "627    627                                  Darksiders III            Action   \n",
      "628    628           Kurenai no Homura: Sanada Ninpou Chou         Adventure   \n",
      "629    629                          Maitetsu: Pure Station      Visual Novel   \n",
      "630    630        Leisure Suit Larry: Wet Dreams Don't Dry         Adventure   \n",
      "631    631                               Just Deal With It             Party   \n",
      "632    632                     Memories Off: Innocent File      Visual Novel   \n",
      "633    633                    Flowers: Le volume sur hiver      Visual Novel   \n",
      "634    634                       Legend of Kay Anniversary  Action-Adventure   \n",
      "635    635       Nil Admirari no Tenbin: Irodori Nadeshiko      Visual Novel   \n",
      "636    636  Sengoku Hime 7: Sen'un Tsuranuku Guren no Ishi      Visual Novel   \n",
      "637    637                        Kimi no Hitomi ni Hit Me      Visual Novel   \n",
      "638    638                              ATV Drift & Tricks            Racing   \n",
      "639    639        Kunio-kun: The World Classics Collection              Misc   \n",
      "640    640                                Closed Nightmare              Misc   \n",
      "641    641        Kunio-kun: The World Classics Collection              Misc   \n",
      "642    642      Your Four Knight Princesses Training Story      Role-Playing   \n",
      "643    643                                     Lucky Dog 1      Visual Novel   \n",
      "644    644           Shiro to Kuro no Alice: Twilight Line      Visual Novel   \n",
      "645    645                                   Cafe Cuillere      Visual Novel   \n",
      "646    646                                 Happy Birthdays              Misc   \n",
      "647    647                   Koshotengai no Hashihime Noma      Visual Novel   \n",
      "648    648            Saiaku Naru Saiyaku Ningen ni Sasagu      Visual Novel   \n",
      "649    649                                     Amatsutsumi      Visual Novel   \n",
      "650    650                  Mega Man X Legacy Collection 2          Platform   \n",
      "651    651   Dynamic Chord feat. Apple-Polisher: V Edition         Adventure   \n",
      "652    652  Happy Manager: Shiawase Zhuang no Kanrinin San        Simulation   \n",
      "653    653                     Dance with Devils: My Carol      Visual Novel   \n",
      "654    654                     Memories Off: Innocent File      Visual Novel   \n",
      "655    655                              World End Syndrome      Visual Novel   \n",
      "656    656                                      Sweet Pool      Visual Novel   \n",
      "\n",
      "    Platform                       Publisher                Developer  \\\n",
      "0        PS4                  Rockstar Games           Rockstar Games   \n",
      "1        PS4                      Activision                 Treyarch   \n",
      "2        PS4                 Electronic Arts                EA Sports   \n",
      "3        PS4  Sony Interactive Entertainment  SIE Santa Monica Studio   \n",
      "4       XOne                  Rockstar Games           Rockstar Games   \n",
      "5       XOne                      Activision                 Treyarch   \n",
      "6        PS4                          Capcom                   Capcom   \n",
      "7         NS                        Nintendo               Game Freak   \n",
      "8        PS4                         Ubisoft                  Ubisoft   \n",
      "9        PS4                         Ubisoft           Ubisoft Quebec   \n",
      "10        NS                        Nintendo               Game Freak   \n",
      "11       PS4                       2K Sports          Visual Concepts   \n",
      "12       PS4                 Electronic Arts                  EA DICE   \n",
      "13      XOne                 Electronic Arts                EA Sports   \n",
      "14       PS4                       EA Sports               EA Tiburon   \n",
      "15       PS4                      Activision             Toys for Bob   \n",
      "16       PS4                     Square Enix              Square Enix   \n",
      "17        NS                          Mojang               4J Studios   \n",
      "18      XOne               Microsoft Studios         Playground Games   \n",
      "19      XOne                         Ubisoft         Ubisoft Montreal   \n",
      "20      XOne                       2K Sports          Visual Concepts   \n",
      "21       PS4                     Square Enix           Eidos Montreal   \n",
      "22      XOne                 Electronic Arts                  EA DICE   \n",
      "23      XOne                       EA Sports               EA Tiburon   \n",
      "24       PS4              Namco Bandai Games         Arc System Works   \n",
      "25      XOne                         Ubisoft           Ubisoft Quebec   \n",
      "26       PS4              Bethesda Softworks    Bethesda Game Studios   \n",
      "27       PS4  Sony Interactive Entertainment          Bluepoint Games   \n",
      "28        NS                      Activision             Toys for Bob   \n",
      "29       PS4  Sony Interactive Entertainment     SIE San Diego Studio   \n",
      "..       ...                             ...                      ...   \n",
      "627       PC                      THQ Nordic            Gunfire Games   \n",
      "628      PSV                    Idea Factory             Idea Factory   \n",
      "629      PS4                            Yeti                     Lose   \n",
      "630       PC          Assemble Entertainment               CrazyBunch   \n",
      "631      PS4               Wired Productions        Wired Productions   \n",
      "632      PS4                           MAGES               5pb. Games   \n",
      "633      PSV                       Prototype                Prototype   \n",
      "634       NS                      THQ Nordic               THQ Nordic   \n",
      "635       NS                    Idea Factory             Idea Factory   \n",
      "636      PSV               System Soft Alpha                 Gesen 18   \n",
      "637      PSV                       Entergram                     Giga   \n",
      "638       NS                        Microids         Artefacts Studio   \n",
      "639       NS                Arc System Works        Million Co., Ltd.   \n",
      "640      PS4            Nippon Ichi Software     Nippon Ichi Software   \n",
      "641      PS4                Arc System Works        Million Co., Ltd.   \n",
      "642      PSV            Nippon Ichi Software     Nippon Ichi Software   \n",
      "643      PSV                       Prototype                Prototype   \n",
      "644      PSV                    Idea Factory      Kogado Studio, Inc.   \n",
      "645      PSV                          Takuyo                   Takuyo   \n",
      "646       NS                     NIS America         Arc System Works   \n",
      "647      PSV                 Dramatic Create                   ADELTA   \n",
      "648      PS4                           Kemco                    Kemco   \n",
      "649      PSV                       Prototype                Prototype   \n",
      "650      PS4                          Capcom                   Capcom   \n",
      "651      PSV                        honeybee                 honeybee   \n",
      "652      PS4                    D3 Publisher             D3 Publisher   \n",
      "653      PSV                           Rejet                    Rejet   \n",
      "654      PSV                           MAGES               5pb. Games   \n",
      "655       NS                Arc System Works         Arc System Works   \n",
      "656      PSV                 Dramatic Create          Dramatic Create   \n",
      "\n",
      "     Global_Sales  NA_Sales  PAL_Sales  JP_Sales  Other_Sales  \n",
      "0           13.94      5.26       6.21      0.21         2.26  \n",
      "1            9.32      4.05       3.28      0.50         1.49  \n",
      "2            9.15      0.84       6.87      0.10         1.34  \n",
      "3            6.15      2.83       2.17      0.13         1.02  \n",
      "4            5.77      3.76       1.47       NaN         0.54  \n",
      "5            4.85      3.27       1.12       NaN         0.46  \n",
      "6            4.67      1.03       1.06      2.17         0.42  \n",
      "7            4.57      2.16       1.24      0.82         0.34  \n",
      "8            3.95      1.44       1.73      0.15         0.62  \n",
      "9            3.18      1.18       1.40      0.09         0.51  \n",
      "10           2.73      1.22       0.80      0.51         0.20  \n",
      "11           2.63      1.69       0.44      0.03         0.47  \n",
      "12           2.22      0.80       0.93      0.16         0.34  \n",
      "13           2.22      0.56       1.50       NaN         0.16  \n",
      "14           2.21      1.63       0.18       NaN         0.41  \n",
      "15           2.17      0.75       1.07       NaN         0.35  \n",
      "16           2.04      0.29       0.22      1.43         0.10  \n",
      "17           1.89      0.69       0.56      0.52         0.12  \n",
      "18           1.84      0.74       0.95      0.01         0.15  \n",
      "19           1.78      1.14       0.47       NaN         0.17  \n",
      "20           1.74      1.47       0.08       NaN         0.18  \n",
      "21           1.74      0.59       0.82      0.06         0.27  \n",
      "22           1.55      1.05       0.35       NaN         0.15  \n",
      "23           1.51      1.33       0.02       NaN         0.16  \n",
      "24           1.46      0.61       0.51      0.12         0.23  \n",
      "25           1.39      0.91       0.35       NaN         0.13  \n",
      "26           1.32      0.52       0.49      0.10         0.20  \n",
      "27           1.20      0.44       0.52      0.05         0.19  \n",
      "28           1.11      0.44       0.57      0.02         0.09  \n",
      "29           1.06      0.86        NaN       NaN         0.20  \n",
      "..            ...       ...        ...       ...          ...  \n",
      "627          0.01       NaN       0.01       NaN         0.00  \n",
      "628          0.01       NaN        NaN      0.01          NaN  \n",
      "629          0.01       NaN        NaN      0.01          NaN  \n",
      "630          0.01       NaN       0.01       NaN         0.00  \n",
      "631          0.01      0.01        NaN       NaN         0.00  \n",
      "632          0.01       NaN        NaN      0.01          NaN  \n",
      "633          0.01       NaN        NaN      0.01          NaN  \n",
      "634          0.01       NaN       0.01       NaN         0.00  \n",
      "635          0.01       NaN        NaN      0.01          NaN  \n",
      "636          0.01       NaN        NaN      0.01          NaN  \n",
      "637          0.01       NaN        NaN      0.01          NaN  \n",
      "638          0.01      0.01        NaN       NaN         0.00  \n",
      "639          0.01       NaN        NaN      0.01          NaN  \n",
      "640          0.01       NaN        NaN      0.01          NaN  \n",
      "641          0.01       NaN        NaN      0.01          NaN  \n",
      "642          0.01       NaN        NaN      0.01          NaN  \n",
      "643          0.01       NaN        NaN      0.01          NaN  \n",
      "644          0.01       NaN        NaN      0.01          NaN  \n",
      "645          0.01       NaN        NaN      0.01          NaN  \n",
      "646          0.01      0.01        NaN       NaN         0.00  \n",
      "647          0.01       NaN        NaN      0.01          NaN  \n",
      "648          0.01       NaN        NaN      0.01          NaN  \n",
      "649          0.01       NaN        NaN      0.01          NaN  \n",
      "650          0.01       NaN        NaN      0.01          NaN  \n",
      "651          0.01       NaN        NaN      0.01          NaN  \n",
      "652          0.01       NaN        NaN      0.01          NaN  \n",
      "653          0.01       NaN        NaN      0.01          NaN  \n",
      "654          0.01       NaN        NaN      0.01          NaN  \n",
      "655          0.01       NaN        NaN      0.01          NaN  \n",
      "656          0.01       NaN        NaN      0.01          NaN  \n",
      "\n",
      "[657 rows x 11 columns]\n"
     ]
    }
   ],
   "source": [
    "print(df_test)\n"
   ]
  },
  {
   "cell_type": "code",
   "execution_count": null,
   "metadata": {},
   "outputs": [],
   "source": []
  }
 ],
 "metadata": {
  "kernelspec": {
   "display_name": "Python 3",
   "language": "python",
   "name": "python3"
  },
  "language_info": {
   "codemirror_mode": {
    "name": "ipython",
    "version": 3
   },
   "file_extension": ".py",
   "mimetype": "text/x-python",
   "name": "python",
   "nbconvert_exporter": "python",
   "pygments_lexer": "ipython3",
   "version": "3.6.8"
  }
 },
 "nbformat": 4,
 "nbformat_minor": 2
}
